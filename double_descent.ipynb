{
 "cells": [
  {
   "cell_type": "markdown",
   "metadata": {},
   "source": [
    "# Double Descent in Linear Regression\n",
    "\n",
    "This notebook is based on a recent [paper](https://arxiv.org/abs/1912.02292) that observed a phenomenon dubbed \"(model-based) double descent\". To understand this idea, consider the bias-variance tradeoff from classical statistics. Roughly this says that as you increase the number of parameters in a model, the bias decreases at the cost of increasing the variance. This tells you to expect that as you increase model complexity by more parameters you should expect worse generalization since the model memorizes the data. On the contrary, it has been pointed out in this paper and references therein that test performance actually becomes better again after becoming worse. This notebook explores this effect."
   ]
  },
  {
   "cell_type": "code",
   "execution_count": 7,
   "metadata": {},
   "outputs": [],
   "source": [
    "# basics\n",
    "import numpy as np\n",
    "import matplotlib.pyplot as plt\n",
    "\n",
    "# train/test split\n",
    "from sklearn.model_selection import train_test_split\n",
    "\n",
    "# tensorflow\n",
    "from tensorflow.keras.layers import Dense\n",
    "from tensorflow.keras.models import Sequential\n",
    "from tensorflow.keras.optimizers import SGD"
   ]
  },
  {
   "cell_type": "code",
   "execution_count": 2,
   "metadata": {},
   "outputs": [
    {
     "data": {
      "text/plain": [
       "array([0.  , 0.03, 0.06, 0.09, 0.12, 0.15, 0.18, 0.21, 0.24, 0.27, 0.3 ,\n",
       "       0.33, 0.36, 0.39, 0.42, 0.45, 0.48, 0.51, 0.54, 0.57, 0.6 , 0.63,\n",
       "       0.66, 0.69, 0.72, 0.75, 0.78, 0.81, 0.84, 0.87, 0.9 , 0.93, 0.96,\n",
       "       0.99])"
      ]
     },
     "execution_count": 2,
     "metadata": {},
     "output_type": "execute_result"
    }
   ],
   "source": [
    "# Generate x values\n",
    "xmin = 0\n",
    "xmax = 1\n",
    "dx = 0.03\n",
    "X = np.arange(xmin, xmax, dx)\n",
    "X"
   ]
  },
  {
   "cell_type": "code",
   "execution_count": 3,
   "metadata": {},
   "outputs": [
    {
     "data": {
      "text/plain": [
       "array([ 0.        ,  0.1918034 ,  0.2502113 ,  0.1518034 ,  0.00244295,\n",
       "       -0.05      ,  0.06244295,  0.2718034 ,  0.4302113 ,  0.4318034 ,\n",
       "        0.3       ,  0.1681966 ,  0.1697887 ,  0.3281966 ,  0.53755705,\n",
       "        0.65      ,  0.59755705,  0.4481966 ,  0.3497887 ,  0.4081966 ,\n",
       "        0.6       ,  0.7918034 ,  0.8502113 ,  0.7518034 ,  0.60244295,\n",
       "        0.55      ,  0.66244295,  0.8718034 ,  1.0302113 ,  1.0318034 ,\n",
       "        0.9       ,  0.7681966 ,  0.7697887 ,  0.9281966 ])"
      ]
     },
     "execution_count": 3,
     "metadata": {},
     "output_type": "execute_result"
    }
   ],
   "source": [
    "# generate y-values\n",
    "period = 0.2\n",
    "\n",
    "def true_model(x, period):\n",
    "    return 0.2*np.sin(2*np.pi*x/period) + x\n",
    "\n",
    "y = true_model(X, period)\n",
    "y"
   ]
  },
  {
   "cell_type": "code",
   "execution_count": 5,
   "metadata": {},
   "outputs": [],
   "source": [
    "# train-test split\n",
    "X_train, X_test, y_train, y_test = train_test_split(X, y, test_size = 0.2, random_state=1)"
   ]
  },
  {
   "cell_type": "code",
   "execution_count": 6,
   "metadata": {},
   "outputs": [
    {
     "data": {
      "text/plain": [
       "<matplotlib.collections.PathCollection at 0x7fc616e41c10>"
      ]
     },
     "execution_count": 6,
     "metadata": {},
     "output_type": "execute_result"
    },
    {
     "data": {
      "image/png": "[encoded data removed]",
      "text/plain": [
       "<Figure size 576x360 with 1 Axes>"
      ]
     },
     "metadata": {
      "needs_background": "light"
     },
     "output_type": "display_data"
    }
   ],
   "source": [
    "plt.figure(figsize=(8,5))\n",
    "plt.scatter(X_train, y_train, c=\"blue\")\n",
    "plt.scatter(X_test, y_test, c=\"red\")"
   ]
  },
  {
   "cell_type": "markdown",
   "metadata": {},
   "source": [
    "# Classical U-shape\n",
    "\n",
    "The first goal will be to see the \"U\"-shape in the test loss as a function of the model complexity."
   ]
  },
  {
   "cell_type": "code",
   "execution_count": 25,
   "metadata": {},
   "outputs": [],
   "source": [
    "# Write a function that computes the train and test loss of a model as a function of the number of weights.\n",
    "# Use polynomial regression.\n",
    "\n",
    "def compute_powers(X, num_powers):\n",
    "    \"\"\"takes a 1D numpy array of length N and returns a 2D numpy array of shape (N, num_powers)\n",
    "    where \"\"\"\n",
    "    \n",
    "    new_X = np.zeros((len(X), num_powers))\n",
    "    \n",
    "    for i in range(num_powers):\n",
    "        new_X[:, i] = X**(i+1)\n",
    "        \n",
    "    return new_X\n",
    "\n",
    "def train_test_loss(X_train, y_train, X_test, y_test, num_params, num_epochs):\n",
    "    \"\"\" Compute the train/test loss from a polynomial regression.\"\"\"\n",
    "    \n",
    "    # get powers of X_train\n",
    "    new_X_train = compute_powers(X_train, num_params)\n",
    "    new_X_test = compute_powers(X_test, num_params)\n",
    "    \n",
    "    model = Sequential()\n",
    "    \n",
    "    model.add(Dense(1, input_shape=(num_params,)))\n",
    "    optimizer = SGD(learning_rate=0.1)\n",
    "    model.compile(loss='mse',\n",
    "                 optimizer=optimizer,\n",
    "                 metrics=['mse'])\n",
    "    \n",
    "    \n",
    "    model.fit(new_X_train, y_train, epochs=num_epochs, verbose=0)\n",
    "    \n",
    "    train_loss, _ = model.evaluate(new_X_train, y_train, verbose=0)\n",
    "    test_loss, _ = model.evaluate(new_X_test, y_test, verbose=0)\n",
    "    \n",
    "    return train_loss, test_loss"
   ]
  },
  {
   "cell_type": "code",
   "execution_count": 28,
   "metadata": {},
   "outputs": [
    {
     "data": {
      "text/plain": [
       "(0.06923958659172058, 0.028272520750761032)"
      ]
     },
     "execution_count": 28,
     "metadata": {},
     "output_type": "execute_result"
    }
   ],
   "source": [
    "train_test_loss(X_train, y_train, X_test, y_test, num_params=2, num_epochs=20)"
   ]
  },
  {
   "cell_type": "code",
   "execution_count": null,
   "metadata": {},
   "outputs": [],
   "source": []
  }
 ],
 "metadata": {
  "kernelspec": {
   "display_name": "py38tf22",
   "language": "python",
   "name": "py38tf22"
  },
  "language_info": {
   "codemirror_mode": {
    "name": "ipython",
    "version": 3
   },
   "file_extension": ".py",
   "mimetype": "text/x-python",
   "name": "python",
   "nbconvert_exporter": "python",
   "pygments_lexer": "ipython3",
   "version": "3.8.3"
  }
 },
 "nbformat": 4,
 "nbformat_minor": 4
}
