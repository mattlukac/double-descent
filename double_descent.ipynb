{
 "cells": [
  {
   "cell_type": "markdown",
   "metadata": {},
   "source": [
    "# Double Descent in Linear Regression\n",
    "\n",
    "This notebook is based on a recent [paper](https://arxiv.org/abs/1912.02292) that observed a phenomenon dubbed \"(model-based) double descent\". To understand this idea, consider the bias-variance tradeoff from classical statistics. Roughly this says that as you increase the number of parameters in a model, the bias decreases at the cost of increasing the variance. This tells you to expect that as you increase model complexity by more parameters you should expect worse generalization since the model memorizes the data. On the contrary, it has been pointed out in this paper and references therein that test performance actually becomes better again after becoming worse. This notebook explores this effect."
   ]
  },
  {
   "cell_type": "code",
   "execution_count": 2,
   "metadata": {},
   "outputs": [],
   "source": [
    "# basics\n",
    "import numpy as np\n",
    "import matplotlib.pyplot as plt\n",
    "\n",
    "# train/test split\n",
    "from sklearn.model_selection import train_test_split\n",
    "\n",
    "# tensorflow\n",
    "from tensorflow.keras.layers import Dense\n",
    "from tensorflow.keras.models import Sequential\n",
    "from tensorflow.keras.optimizers import SGD"
   ]
  },
  {
   "cell_type": "code",
   "execution_count": 25,
   "metadata": {},
   "outputs": [
    {
     "data": {
      "text/plain": [
       "array([-1.0000000e+00, -9.9000000e-01, -9.8000000e-01, -9.7000000e-01,\n",
       "       -9.6000000e-01, -9.5000000e-01, -9.4000000e-01, -9.3000000e-01,\n",
       "       -9.2000000e-01, -9.1000000e-01, -9.0000000e-01, -8.9000000e-01,\n",
       "       -8.8000000e-01, -8.7000000e-01, -8.6000000e-01, -8.5000000e-01,\n",
       "       -8.4000000e-01, -8.3000000e-01, -8.2000000e-01, -8.1000000e-01,\n",
       "       -8.0000000e-01, -7.9000000e-01, -7.8000000e-01, -7.7000000e-01,\n",
       "       -7.6000000e-01, -7.5000000e-01, -7.4000000e-01, -7.3000000e-01,\n",
       "       -7.2000000e-01, -7.1000000e-01, -7.0000000e-01, -6.9000000e-01,\n",
       "       -6.8000000e-01, -6.7000000e-01, -6.6000000e-01, -6.5000000e-01,\n",
       "       -6.4000000e-01, -6.3000000e-01, -6.2000000e-01, -6.1000000e-01,\n",
       "       -6.0000000e-01, -5.9000000e-01, -5.8000000e-01, -5.7000000e-01,\n",
       "       -5.6000000e-01, -5.5000000e-01, -5.4000000e-01, -5.3000000e-01,\n",
       "       -5.2000000e-01, -5.1000000e-01, -5.0000000e-01, -4.9000000e-01,\n",
       "       -4.8000000e-01, -4.7000000e-01, -4.6000000e-01, -4.5000000e-01,\n",
       "       -4.4000000e-01, -4.3000000e-01, -4.2000000e-01, -4.1000000e-01,\n",
       "       -4.0000000e-01, -3.9000000e-01, -3.8000000e-01, -3.7000000e-01,\n",
       "       -3.6000000e-01, -3.5000000e-01, -3.4000000e-01, -3.3000000e-01,\n",
       "       -3.2000000e-01, -3.1000000e-01, -3.0000000e-01, -2.9000000e-01,\n",
       "       -2.8000000e-01, -2.7000000e-01, -2.6000000e-01, -2.5000000e-01,\n",
       "       -2.4000000e-01, -2.3000000e-01, -2.2000000e-01, -2.1000000e-01,\n",
       "       -2.0000000e-01, -1.9000000e-01, -1.8000000e-01, -1.7000000e-01,\n",
       "       -1.6000000e-01, -1.5000000e-01, -1.4000000e-01, -1.3000000e-01,\n",
       "       -1.2000000e-01, -1.1000000e-01, -1.0000000e-01, -9.0000000e-02,\n",
       "       -8.0000000e-02, -7.0000000e-02, -6.0000000e-02, -5.0000000e-02,\n",
       "       -4.0000000e-02, -3.0000000e-02, -2.0000000e-02, -1.0000000e-02,\n",
       "        8.8817842e-16,  1.0000000e-02,  2.0000000e-02,  3.0000000e-02,\n",
       "        4.0000000e-02,  5.0000000e-02,  6.0000000e-02,  7.0000000e-02,\n",
       "        8.0000000e-02,  9.0000000e-02,  1.0000000e-01,  1.1000000e-01,\n",
       "        1.2000000e-01,  1.3000000e-01,  1.4000000e-01,  1.5000000e-01,\n",
       "        1.6000000e-01,  1.7000000e-01,  1.8000000e-01,  1.9000000e-01,\n",
       "        2.0000000e-01,  2.1000000e-01,  2.2000000e-01,  2.3000000e-01,\n",
       "        2.4000000e-01,  2.5000000e-01,  2.6000000e-01,  2.7000000e-01,\n",
       "        2.8000000e-01,  2.9000000e-01,  3.0000000e-01,  3.1000000e-01,\n",
       "        3.2000000e-01,  3.3000000e-01,  3.4000000e-01,  3.5000000e-01,\n",
       "        3.6000000e-01,  3.7000000e-01,  3.8000000e-01,  3.9000000e-01,\n",
       "        4.0000000e-01,  4.1000000e-01,  4.2000000e-01,  4.3000000e-01,\n",
       "        4.4000000e-01,  4.5000000e-01,  4.6000000e-01,  4.7000000e-01,\n",
       "        4.8000000e-01,  4.9000000e-01,  5.0000000e-01,  5.1000000e-01,\n",
       "        5.2000000e-01,  5.3000000e-01,  5.4000000e-01,  5.5000000e-01,\n",
       "        5.6000000e-01,  5.7000000e-01,  5.8000000e-01,  5.9000000e-01,\n",
       "        6.0000000e-01,  6.1000000e-01,  6.2000000e-01,  6.3000000e-01,\n",
       "        6.4000000e-01,  6.5000000e-01,  6.6000000e-01,  6.7000000e-01,\n",
       "        6.8000000e-01,  6.9000000e-01,  7.0000000e-01,  7.1000000e-01,\n",
       "        7.2000000e-01,  7.3000000e-01,  7.4000000e-01,  7.5000000e-01,\n",
       "        7.6000000e-01,  7.7000000e-01,  7.8000000e-01,  7.9000000e-01,\n",
       "        8.0000000e-01,  8.1000000e-01,  8.2000000e-01,  8.3000000e-01,\n",
       "        8.4000000e-01,  8.5000000e-01,  8.6000000e-01,  8.7000000e-01,\n",
       "        8.8000000e-01,  8.9000000e-01,  9.0000000e-01,  9.1000000e-01,\n",
       "        9.2000000e-01,  9.3000000e-01,  9.4000000e-01,  9.5000000e-01,\n",
       "        9.6000000e-01,  9.7000000e-01,  9.8000000e-01,  9.9000000e-01])"
      ]
     },
     "execution_count": 25,
     "metadata": {},
     "output_type": "execute_result"
    }
   ],
   "source": [
    "# Generate x values\n",
    "xmin = -1\n",
    "xmax = 1\n",
    "dx = 0.01\n",
    "X = np.arange(xmin, xmax, dx)\n",
    "X"
   ]
  },
  {
   "cell_type": "code",
   "execution_count": 26,
   "metadata": {},
   "outputs": [
    {
     "data": {
      "text/plain": [
       "array([-1.00000000e+00, -9.28196601e-01, -8.62442950e-01, -8.08196601e-01,\n",
       "       -7.69788697e-01, -7.50000000e-01, -7.49788697e-01, -7.68196601e-01,\n",
       "       -8.02442950e-01, -8.48196601e-01, -9.00000000e-01, -9.51803399e-01,\n",
       "       -9.97557050e-01, -1.03180340e+00, -1.05021130e+00, -1.05000000e+00,\n",
       "       -1.03021130e+00, -9.91803399e-01, -9.37557050e-01, -8.71803399e-01,\n",
       "       -8.00000000e-01, -7.28196601e-01, -6.62442950e-01, -6.08196601e-01,\n",
       "       -5.69788697e-01, -5.50000000e-01, -5.49788697e-01, -5.68196601e-01,\n",
       "       -6.02442950e-01, -6.48196601e-01, -7.00000000e-01, -7.51803399e-01,\n",
       "       -7.97557050e-01, -8.31803399e-01, -8.50211303e-01, -8.50000000e-01,\n",
       "       -8.30211303e-01, -7.91803399e-01, -7.37557050e-01, -6.71803399e-01,\n",
       "       -6.00000000e-01, -5.28196601e-01, -4.62442950e-01, -4.08196601e-01,\n",
       "       -3.69788697e-01, -3.50000000e-01, -3.49788697e-01, -3.68196601e-01,\n",
       "       -4.02442950e-01, -4.48196601e-01, -5.00000000e-01, -5.51803399e-01,\n",
       "       -5.97557050e-01, -6.31803399e-01, -6.50211303e-01, -6.50000000e-01,\n",
       "       -6.30211303e-01, -5.91803399e-01, -5.37557050e-01, -4.71803399e-01,\n",
       "       -4.00000000e-01, -3.28196601e-01, -2.62442950e-01, -2.08196601e-01,\n",
       "       -1.69788697e-01, -1.50000000e-01, -1.49788697e-01, -1.68196601e-01,\n",
       "       -2.02442950e-01, -2.48196601e-01, -3.00000000e-01, -3.51803399e-01,\n",
       "       -3.97557050e-01, -4.31803399e-01, -4.50211303e-01, -4.50000000e-01,\n",
       "       -4.30211303e-01, -3.91803399e-01, -3.37557050e-01, -2.71803399e-01,\n",
       "       -2.00000000e-01, -1.28196601e-01, -6.24429495e-02, -8.19660113e-03,\n",
       "        3.02113033e-02,  5.00000000e-02,  5.02113033e-02,  3.18033989e-02,\n",
       "       -2.44294954e-03, -4.81966011e-02, -1.00000000e-01, -1.51803399e-01,\n",
       "       -1.97557050e-01, -2.31803399e-01, -2.50211303e-01, -2.50000000e-01,\n",
       "       -2.30211303e-01, -1.91803399e-01, -1.37557050e-01, -7.18033989e-02,\n",
       "        6.46876802e-15,  7.18033989e-02,  1.37557050e-01,  1.91803399e-01,\n",
       "        2.30211303e-01,  2.50000000e-01,  2.50211303e-01,  2.31803399e-01,\n",
       "        1.97557050e-01,  1.51803399e-01,  1.00000000e-01,  4.81966011e-02,\n",
       "        2.44294954e-03, -3.18033989e-02, -5.02113033e-02, -5.00000000e-02,\n",
       "       -3.02113033e-02,  8.19660113e-03,  6.24429495e-02,  1.28196601e-01,\n",
       "        2.00000000e-01,  2.71803399e-01,  3.37557050e-01,  3.91803399e-01,\n",
       "        4.30211303e-01,  4.50000000e-01,  4.50211303e-01,  4.31803399e-01,\n",
       "        3.97557050e-01,  3.51803399e-01,  3.00000000e-01,  2.48196601e-01,\n",
       "        2.02442950e-01,  1.68196601e-01,  1.49788697e-01,  1.50000000e-01,\n",
       "        1.69788697e-01,  2.08196601e-01,  2.62442950e-01,  3.28196601e-01,\n",
       "        4.00000000e-01,  4.71803399e-01,  5.37557050e-01,  5.91803399e-01,\n",
       "        6.30211303e-01,  6.50000000e-01,  6.50211303e-01,  6.31803399e-01,\n",
       "        5.97557050e-01,  5.51803399e-01,  5.00000000e-01,  4.48196601e-01,\n",
       "        4.02442950e-01,  3.68196601e-01,  3.49788697e-01,  3.50000000e-01,\n",
       "        3.69788697e-01,  4.08196601e-01,  4.62442950e-01,  5.28196601e-01,\n",
       "        6.00000000e-01,  6.71803399e-01,  7.37557050e-01,  7.91803399e-01,\n",
       "        8.30211303e-01,  8.50000000e-01,  8.50211303e-01,  8.31803399e-01,\n",
       "        7.97557050e-01,  7.51803399e-01,  7.00000000e-01,  6.48196601e-01,\n",
       "        6.02442950e-01,  5.68196601e-01,  5.49788697e-01,  5.50000000e-01,\n",
       "        5.69788697e-01,  6.08196601e-01,  6.62442950e-01,  7.28196601e-01,\n",
       "        8.00000000e-01,  8.71803399e-01,  9.37557050e-01,  9.91803399e-01,\n",
       "        1.03021130e+00,  1.05000000e+00,  1.05021130e+00,  1.03180340e+00,\n",
       "        9.97557050e-01,  9.51803399e-01,  9.00000000e-01,  8.48196601e-01,\n",
       "        8.02442950e-01,  7.68196601e-01,  7.49788697e-01,  7.50000000e-01,\n",
       "        7.69788697e-01,  8.08196601e-01,  8.62442950e-01,  9.28196601e-01])"
      ]
     },
     "execution_count": 26,
     "metadata": {},
     "output_type": "execute_result"
    }
   ],
   "source": [
    "# generate y-values\n",
    "period = 0.2\n",
    "\n",
    "def true_model(x, period):\n",
    "    return 0.2*np.sin(2*np.pi*x/period) + x\n",
    "\n",
    "y = true_model(X, period)\n",
    "y"
   ]
  },
  {
   "cell_type": "code",
   "execution_count": 27,
   "metadata": {},
   "outputs": [],
   "source": [
    "# train-test split\n",
    "X_train, X_test, y_train, y_test = train_test_split(X, y, test_size = 0.2, random_state=1)"
   ]
  },
  {
   "cell_type": "code",
   "execution_count": 28,
   "metadata": {},
   "outputs": [
    {
     "data": {
      "text/plain": [
       "<matplotlib.collections.PathCollection at 0x7fc73e25f160>"
      ]
     },
     "execution_count": 28,
     "metadata": {},
     "output_type": "execute_result"
    },
    {
     "data": {
      "image/png": "[encoded data removed]",
      "text/plain": [
       "<Figure size 576x360 with 1 Axes>"
      ]
     },
     "metadata": {
      "needs_background": "light"
     },
     "output_type": "display_data"
    }
   ],
   "source": [
    "plt.figure(figsize=(8,5))\n",
    "plt.scatter(X_train, y_train, c=\"blue\")\n",
    "plt.scatter(X_test, y_test, c=\"red\")"
   ]
  },
  {
   "cell_type": "markdown",
   "metadata": {},
   "source": [
    "# Classical U-shape\n",
    "\n",
    "The first goal will be to see the \"U\"-shape in the test loss as a function of the model complexity."
   ]
  },
  {
   "cell_type": "code",
   "execution_count": 29,
   "metadata": {},
   "outputs": [],
   "source": [
    "def compute_powers(X, num_powers):\n",
    "    \"\"\"takes a 1D numpy array of length N and returns a 2D numpy array of shape (N, num_powers)\n",
    "    where \"\"\"\n",
    "    \n",
    "    new_X = np.zeros((len(X), num_powers))\n",
    "    \n",
    "    for i in range(num_powers):\n",
    "        new_X[:, i] = X**(i+1)\n",
    "        \n",
    "    return new_X\n",
    "\n",
    "def train_test_loss(X_train, y_train, X_test, y_test, num_params, num_epochs):\n",
    "    \"\"\" Compute the train/test loss from a polynomial regression.\"\"\"\n",
    "    \n",
    "    # get powers of X_train\n",
    "    new_X_train = compute_powers(X_train, num_params)\n",
    "    new_X_test = compute_powers(X_test, num_params)\n",
    "    \n",
    "    model = Sequential()\n",
    "    \n",
    "    model.add(Dense(1, input_shape=(num_params,)))\n",
    "    optimizer = SGD(learning_rate=0.1)\n",
    "    model.compile(loss='mse',\n",
    "                 optimizer=optimizer)\n",
    "    \n",
    "    model.fit(new_X_train, y_train, epochs=num_epochs, verbose=0)\n",
    "    \n",
    "    train_loss = model.evaluate(new_X_train, y_train, verbose=0)\n",
    "    test_loss = model.evaluate(new_X_test, y_test, verbose=0)\n",
    "    \n",
    "    return train_loss, test_loss"
   ]
  },
  {
   "cell_type": "code",
   "execution_count": 30,
   "metadata": {},
   "outputs": [
    {
     "data": {
      "text/plain": [
       "(0.01986042782664299, 0.021325983107089996)"
      ]
     },
     "execution_count": 30,
     "metadata": {},
     "output_type": "execute_result"
    }
   ],
   "source": [
    "train_test_loss(X_train, y_train, X_test, y_test, num_params=2, num_epochs=20)"
   ]
  },
  {
   "cell_type": "code",
   "execution_count": 33,
   "metadata": {},
   "outputs": [],
   "source": [
    "max_num_params = 400\n",
    "\n",
    "all_losses = [train_test_loss(X_train, y_train, X_test, y_test, num_params = num_params, num_epochs=400) for\n",
    "             num_params in range(2, max_num_params)]\n",
    "\n",
    "train_loss, test_loss = zip(*all_losses)"
   ]
  },
  {
   "cell_type": "code",
   "execution_count": 34,
   "metadata": {},
   "outputs": [
    {
     "data": {
      "text/plain": [
       "[<matplotlib.lines.Line2D at 0x7fc73e292700>]"
      ]
     },
     "execution_count": 34,
     "metadata": {},
     "output_type": "execute_result"
    },
    {
     "data": {
      "image/png": "[encoded data removed]",
      "text/plain": [
       "<Figure size 432x288 with 1 Axes>"
      ]
     },
     "metadata": {
      "needs_background": "light"
     },
     "output_type": "display_data"
    }
   ],
   "source": [
    "plt.plot(range(2, max_num_params), train_loss)\n",
    "plt.plot(range(2, max_num_params), test_loss)"
   ]
  },
  {
   "cell_type": "code",
   "execution_count": null,
   "metadata": {},
   "outputs": [],
   "source": []
  }
 ],
 "metadata": {
  "kernelspec": {
   "display_name": "py38tf22",
   "language": "python",
   "name": "py38tf22"
  },
  "language_info": {
   "codemirror_mode": {
    "name": "ipython",
    "version": 3
   },
   "file_extension": ".py",
   "mimetype": "text/x-python",
   "name": "python",
   "nbconvert_exporter": "python",
   "pygments_lexer": "ipython3",
   "version": "3.8.3"
  }
 },
 "nbformat": 4,
 "nbformat_minor": 4
}
