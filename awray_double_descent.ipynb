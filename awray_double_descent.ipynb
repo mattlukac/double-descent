{
 "cells": [
  {
   "cell_type": "markdown",
   "metadata": {},
   "source": [
    "# Double Descent in Linear Regression\n",
    "\n",
    "This notebook is based on a recent [paper](https://arxiv.org/abs/1912.02292) that observed a phenomenon dubbed \"(model-based) double descent\". To understand this idea, consider the bias-variance tradeoff from classical statistics. Roughly this says that as you increase the number of parameters in a model, the bias decreases at the cost of increasing the variance. This tells you to expect that as you increase model complexity by more parameters you should expect worse generalization since the model memorizes the data. On the contrary, it has been pointed out in this paper and references therein that test performance actually becomes better again after becoming worse. This notebook explores this effect."
   ]
  },
  {
   "cell_type": "code",
   "execution_count": 181,
   "metadata": {},
   "outputs": [],
   "source": [
    "# basics\n",
    "import numpy as np\n",
    "import matplotlib.pyplot as plt\n",
    "\n",
    "# train/test split\n",
    "from sklearn.model_selection import train_test_split\n",
    "\n",
    "# tensorflow\n",
    "from tensorflow.keras.layers import Dense\n",
    "from tensorflow.keras.models import Sequential\n",
    "from tensorflow.keras.optimizers import SGD\n",
    "from tensorflow.keras.regularizers import l2"
   ]
  },
  {
   "cell_type": "code",
   "execution_count": 189,
   "metadata": {},
   "outputs": [],
   "source": [
    "# Generate x values\n",
    "xmin = -0.5\n",
    "xmax = 0.5\n",
    "dx = 0.01\n",
    "X = np.arange(xmin, xmax, dx)\n",
    "\n",
    "# generate y-values\n",
    "period = 0.5\n",
    "\n",
    "def true_model(x, period):\n",
    "    return 0.3*np.sin(2*np.pi*x/period) + x\n",
    "\n",
    "y = true_model(X, period)"
   ]
  },
  {
   "cell_type": "code",
   "execution_count": 190,
   "metadata": {},
   "outputs": [],
   "source": [
    "# train-test split\n",
    "X_train, X_test, y_train, y_test = train_test_split(X, y, test_size = 0.2, random_state=2)"
   ]
  },
  {
   "cell_type": "code",
   "execution_count": 191,
   "metadata": {},
   "outputs": [
    {
     "data": {
      "text/plain": [
       "<matplotlib.collections.PathCollection at 0x7fad5cacc760>"
      ]
     },
     "execution_count": 191,
     "metadata": {},
     "output_type": "execute_result"
    },
    {
     "data": {
      "image/png": "[encoded data removed]",
      "text/plain": [
       "<Figure size 576x360 with 1 Axes>"
      ]
     },
     "metadata": {
      "needs_background": "light"
     },
     "output_type": "display_data"
    }
   ],
   "source": [
    "plt.figure(figsize=(8,5))\n",
    "plt.scatter(X_train, y_train, c=\"blue\")\n",
    "plt.scatter(X_test, y_test, c=\"red\")"
   ]
  },
  {
   "cell_type": "markdown",
   "metadata": {},
   "source": [
    "# Classical U-shape\n",
    "\n",
    "The first goal will be to see the \"U\"-shape in the test loss as a function of the model complexity."
   ]
  },
  {
   "cell_type": "code",
   "execution_count": 192,
   "metadata": {},
   "outputs": [],
   "source": [
    "def compute_powers(X, num_powers):\n",
    "    \"\"\"takes a 1D numpy array of length N and returns a 2D numpy array of shape (N, num_powers)\n",
    "    where \"\"\"\n",
    "    \n",
    "    new_X = np.zeros((len(X), num_powers))\n",
    "    \n",
    "    for i in range(num_powers):\n",
    "        new_X[:, i] = X**(i+1)\n",
    "        \n",
    "    return new_X\n",
    "\n",
    "def train_test_loss(X_train, y_train, X_test, y_test, num_params, num_epochs, output_model=False):\n",
    "    \"\"\" Compute the train/test loss from a polynomial regression.\"\"\"\n",
    "    \n",
    "    # get powers of X_train\n",
    "    new_X_train = compute_powers(X_train, num_params)\n",
    "    new_X_test = compute_powers(X_test, num_params)\n",
    "    \n",
    "    model = Sequential()\n",
    "    \n",
    "    model.add(Dense(1, input_shape=(num_params,)))\n",
    "#                     kernel_regularizer=l2(0.0001)))\n",
    "    optimizer = SGD(learning_rate=0.1)\n",
    "    model.compile(loss='mae',\n",
    "                 optimizer=optimizer)\n",
    "    \n",
    "    model.fit(new_X_train, y_train, epochs=num_epochs, verbose=0)\n",
    "    \n",
    "    train_loss = model.evaluate(new_X_train, y_train, verbose=0)\n",
    "    test_loss = model.evaluate(new_X_test, y_test, verbose=0)\n",
    "    \n",
    "    if output_model:\n",
    "        return model\n",
    "    \n",
    "    return train_loss, test_loss\n"
   ]
  },
  {
   "cell_type": "code",
   "execution_count": 193,
   "metadata": {},
   "outputs": [
    {
     "data": {
      "text/plain": [
       "(0.18351443111896515, 0.17054617404937744)"
      ]
     },
     "execution_count": 193,
     "metadata": {},
     "output_type": "execute_result"
    }
   ],
   "source": [
    "train_test_loss(X_train, y_train, X_test, y_test, num_params=2, num_epochs=20)"
   ]
  },
  {
   "cell_type": "raw",
   "metadata": {},
   "source": [
    "max_num_params = 200"
   ]
  },
  {
   "cell_type": "raw",
   "metadata": {},
   "source": [
    "all_losses = [train_test_loss(X_train, y_train, X_test, y_test, num_params = num_params, num_epochs=400) for\n",
    "             num_params in range(2, max_num_params)]\n",
    "\n",
    "train_loss, test_loss = zip(*all_losses)"
   ]
  },
  {
   "cell_type": "raw",
   "metadata": {},
   "source": [
    "plt.figure(figsize=(8,6))\n",
    "plt.plot(range(2, max_num_params), train_loss, label=\"train\")\n",
    "plt.plot(range(2, max_num_params), test_loss, label=\"test\")\n",
    "plt.xlabel(\"Number of parameters\")\n",
    "plt.ylabel(\"L2 loss\")\n",
    "plt.legend()\n",
    "plt.savefig(\"./figures/loss_vs_params.png\")"
   ]
  },
  {
   "cell_type": "code",
   "execution_count": 199,
   "metadata": {},
   "outputs": [],
   "source": [
    "num_params_debug=10"
   ]
  },
  {
   "cell_type": "code",
   "execution_count": 200,
   "metadata": {},
   "outputs": [
    {
     "data": {
      "image/png": "[encoded data removed]",
      "text/plain": [
       "<Figure size 576x360 with 1 Axes>"
      ]
     },
     "metadata": {
      "needs_background": "light"
     },
     "output_type": "display_data"
    }
   ],
   "source": [
    "def plot_model(model, domain=X, X_train=X_train, y_train=y_train, X_test=X_test, y_test=y_test, num_params=num_params_debug,\n",
    "              data=True):\n",
    "    \"\"\"plot the tensorflow model on the given domain. Make sure \n",
    "    num_params is equal to the number of parameters from the model.\"\"\"\n",
    "    \n",
    "    model_values = model.predict(compute_powers(domain, num_params_debug))\n",
    "    \n",
    "    plt.figure(figsize=(8,5))\n",
    "    if data:\n",
    "        plt.scatter(X_train, y_train, c=\"blue\", label=\"train\")\n",
    "        plt.scatter(X_test, y_test, c=\"red\", label=\"test\")\n",
    "    plt.plot(domain, model_values, c=\"black\", label=\"predicted\")\n",
    "    plt.ylim(np.min(model_values)-1, np.max(model_values)+1)\n",
    "    plt.legend()\n",
    "    plt.show()\n",
    "    \n",
    "    \n",
    "model_1 = train_test_loss(X_train, y_train, X_test, y_test, num_params=num_params_debug, num_epochs=1000, output_model=True)\n",
    "plot_model(model_1, domain=np.linspace(xmin, xmax, 300), data=True)"
   ]
  },
  {
   "cell_type": "code",
   "execution_count": null,
   "metadata": {},
   "outputs": [],
   "source": []
  },
  {
   "cell_type": "code",
   "execution_count": null,
   "metadata": {},
   "outputs": [],
   "source": []
  }
 ],
 "metadata": {
  "kernelspec": {
   "display_name": "py38tf22",
   "language": "python",
   "name": "py38tf22"
  },
  "language_info": {
   "codemirror_mode": {
    "name": "ipython",
    "version": 3
   },
   "file_extension": ".py",
   "mimetype": "text/x-python",
   "name": "python",
   "nbconvert_exporter": "python",
   "pygments_lexer": "ipython3",
   "version": "3.8.3"
  }
 },
 "nbformat": 4,
 "nbformat_minor": 4
}
